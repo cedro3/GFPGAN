{
  "nbformat": 4,
  "nbformat_minor": 0,
  "metadata": {
    "colab": {
      "name": "GFPGAN",
      "provenance": [],
      "collapsed_sections": [],
      "include_colab_link": true
    },
    "kernelspec": {
      "name": "python3",
      "display_name": "Python 3"
    },
    "accelerator": "GPU"
  },
  "cells": [
    {
      "cell_type": "markdown",
      "metadata": {
        "id": "view-in-github",
        "colab_type": "text"
      },
      "source": [
        "<a href=\"https://colab.research.google.com/github/cedro3/GFPGAN/blob/master/GFPGAN.ipynb\" target=\"_parent\"><img src=\"https://colab.research.google.com/assets/colab-badge.svg\" alt=\"Open In Colab\"/></a>"
      ]
    },
    {
      "cell_type": "code",
      "metadata": {
        "id": "ZwH2ifWEYEfJ"
      },
      "source": [
        "#@title #**setup**\n",
        "\n",
        "# --- GFPGAN setup ---\n",
        "# Clone GFPGAN\n",
        "%cd /content\n",
        "!rm -rf GFPGAN\n",
        "!git clone https://github.com/cedro3/GFPGAN.git\n",
        "%cd GFPGAN\n",
        "\n",
        "# install library\n",
        "!pip install basicsr\n",
        "!pip install facexlib\n",
        "!pip install -r requirements.txt\n",
        "!python setup.py develop\n",
        "!pip install realesrgan  \n",
        "\n",
        "# Download the pre-trained model\n",
        "!wget https://github.com/TencentARC/GFPGAN/releases/download/v1.3.0/GFPGANv1.3.pth -P experiments/pretrained_models\n",
        "\n",
        "# add function\n",
        "from function import display_pic, reset_folder, comp_display\n",
        "\n",
        "\n",
        "# --- DeOldify setup ---\n",
        "# Clone DeOldify\n",
        "%cd /content\n",
        "!rm -rf DeOldify\n",
        "!git clone https://github.com/jantic/DeOldify.git\n",
        "%cd DeOldify\n",
        "\n",
        "#NOTE:  This must be the first call in order to work properly!\n",
        "from deoldify import device\n",
        "from deoldify.device_id import DeviceId\n",
        "\n",
        "#choices:  CPU, GPU0...GPU7\n",
        "device.set(device=DeviceId.GPU0)\n",
        "import torch\n",
        "if not torch.cuda.is_available():\n",
        "    print('GPU not available.')\n",
        "\n",
        "# install library\n",
        "! pip install -r requirements-colab.txt\n",
        "\n",
        "# import library\n",
        "import fastai\n",
        "from deoldify.visualize import *\n",
        "import warnings\n",
        "warnings.filterwarnings(\"ignore\", category=UserWarning, message=\".*?Your .*? set is empty.*?\")\n",
        "\n",
        "# download models\n",
        "! mkdir 'models'\n",
        "! wget https://data.deepai.org/deoldify/ColorizeArtistic_gen.pth -O ./models/ColorizeArtistic_gen.pth\n",
        "\n",
        "# download watermark\n",
        "! wget https://media.githubusercontent.com/media/jantic/DeOldify/master/resource_images/watermark.png -O ./resource_images/watermark.png\n",
        "\n",
        "# load model\n",
        "colorizer = get_image_colorizer(artistic=True)\n"
      ],
      "execution_count": null,
      "outputs": []
    },
    {
      "cell_type": "code",
      "source": [
        "#@title #**display sample picture**\n",
        "display_pic('/content/GFPGAN/images')"
      ],
      "metadata": {
        "id": "GmFhPF9Cddu0"
      },
      "execution_count": null,
      "outputs": []
    },
    {
      "cell_type": "code",
      "source": [
        "#@title #**GFPGAN**\n",
        "%cd /content/GFPGAN\n",
        "!rm -rf results\n",
        "picture = '09.jpg'#@param {type:\"string\"}\n",
        "input_path = 'images/'+ picture\n",
        "\n",
        "!python inference_gfpgan.py -i $input_path -o results -v 1.3 -s 2 --bg_upsampler realesrgan\n",
        "\n",
        "# display befor & after\n",
        "from IPython.display import clear_output\n",
        "clear_output()\n",
        "img_input = cv2.imread('images/'+picture)\n",
        "img_output = cv2.imread('results/restored_imgs/'+picture)\n",
        "comp_display(img_input, img_output)"
      ],
      "metadata": {
        "id": "znk3F-x4dmbq"
      },
      "execution_count": null,
      "outputs": []
    },
    {
      "cell_type": "code",
      "source": [
        "#@title #**DeOldify**\n",
        "\n",
        "# copy image\n",
        "%cd /content/DeOldify\n",
        "import shutil\n",
        "\n",
        "pic = '/content/GFPGAN/results/restored_imgs/'+picture\n",
        "dst_pic = '/content/DeOldify/test_images/'+picture\n",
        "shutil.copy(pic, dst_pic)\n",
        "\n",
        "\n",
        "# DeOldify\n",
        "file_path = 'test_images/'+picture\n",
        "render_factor = 35 \n",
        "\n",
        "colorizer.plot_transformed_image(file_path,\\\n",
        "                                  render_factor= render_factor,\\\n",
        "                                  watermarked = False,\\\n",
        "                                  display_render_factor=False,\\\n",
        "                                  compare=True,\\\n",
        "                                  figsize=(15,15))"
      ],
      "metadata": {
        "id": "Jt9Jhhu4ng9Y"
      },
      "execution_count": null,
      "outputs": []
    },
    {
      "cell_type": "code",
      "source": [
        "#@title #**final comparison image**\n",
        "\n",
        "# concatenate pre-conversion and post-conversion images\n",
        "reset_folder('compare_images')\n",
        "mono = cv2.imread('/content/GFPGAN/images/'+picture)\n",
        "tmp = cv2.imread('/content/GFPGAN/results/restored_imgs/'+picture)\n",
        "color = cv2.imread('/content/DeOldify/result_images/'+picture)\n",
        "height, width ,channels =tmp.shape\n",
        "mono = cv2.resize(mono, dsize=(width, height))\n",
        "color = cv2.resize(color, dsize=(width, height))\n",
        "\n",
        "if height > width:\n",
        "  result = cv2.hconcat([mono, color])\n",
        "else:\n",
        "  result = cv2.vconcat([color, mono])  \n",
        "cv2.imwrite('compare_images/fine'+picture, result)\n",
        "\n",
        "# display\n",
        "from IPython.display import display\n",
        "from IPython.display import Image as show_img\n",
        "display(show_img('compare_images/fine'+picture))\n",
        "\n",
        "# auto-download\n",
        "from google.colab import files\n",
        "files.download('compare_images/fine'+picture)"
      ],
      "metadata": {
        "id": "U4nLHLmezKH1"
      },
      "execution_count": null,
      "outputs": []
    }
  ]
}
